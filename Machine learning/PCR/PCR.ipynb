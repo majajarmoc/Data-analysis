{
 "cells": [
  {
   "cell_type": "code",
   "execution_count": 1,
   "metadata": {},
   "outputs": [],
   "source": [
    "#BIBLIOTEKI\n",
    "import pandas as pd\n",
    "import csv\n",
    "import matplotlib.pyplot as plt\n",
    "import numpy as np\n",
    "from sklearn import linear_model\n",
    "from statsmodels.stats.outliers_influence import variance_inflation_factor\n",
    "import statistics as st\n",
    "from math import sqrt\n",
    "import scipy.stats as stats\n",
    "import statsmodels.api as sm\n",
    "import seaborn as sns\n",
    "from sklearn.preprocessing import StandardScaler\n",
    "from sklearn.decomposition import PCA\n",
    "import sklearn\n",
    "from sklearn.model_selection import train_test_split\n",
    "from sklearn.model_selection import KFold\n",
    "from sklearn.linear_model import LinearRegression\n",
    "from sklearn.model_selection import cross_val_score\n",
    "import math\n",
    "from numpy.linalg import eig\n",
    "from sklearn.decomposition import PCA, SparsePCA, TruncatedSVD\n",
    "from sklearn import metrics\n",
    "from sklearn.metrics import mean_squared_error,r2_score"
   ]
  },
  {
   "cell_type": "markdown",
   "metadata": {},
   "source": [
    "Zmienna zależna:\n",
    "- parametr logK HSA\n",
    "\n",
    "Zmienne niezależne:\n",
    "- logK CTAB\n",
    "- CATS3D_09_AL \n",
    "- CATS3D_00_AA \n",
    "- CATS 3D_00_DD "
   ]
  },
  {
   "cell_type": "code",
   "execution_count": 2,
   "metadata": {},
   "outputs": [],
   "source": [
    "data = pd.read_excel(r'dane_leki.xlsx')\n",
    "data = data.drop('Unnamed: 0',axis = 1)\n",
    "\n",
    "data.drop('Zbiór', inplace=True, axis=1)\n",
    "\n",
    "nazwy = data['Nazwa']\n",
    "data.drop('Nazwa', inplace=True, axis=1)\n",
    "data = data.set_axis([nazwy])"
   ]
  },
  {
   "cell_type": "code",
   "execution_count": 3,
   "metadata": {},
   "outputs": [
    {
     "data": {
      "text/html": [
       "<div>\n",
       "<style scoped>\n",
       "    .dataframe tbody tr th:only-of-type {\n",
       "        vertical-align: middle;\n",
       "    }\n",
       "\n",
       "    .dataframe tbody tr th {\n",
       "        vertical-align: top;\n",
       "    }\n",
       "\n",
       "    .dataframe thead th {\n",
       "        text-align: right;\n",
       "    }\n",
       "</style>\n",
       "<table border=\"1\" class=\"dataframe\">\n",
       "  <thead>\n",
       "    <tr style=\"text-align: right;\">\n",
       "      <th></th>\n",
       "      <th>logKCTAB</th>\n",
       "      <th>CATS3D_00_DD</th>\n",
       "      <th>CATS3D_09_AL</th>\n",
       "      <th>CATS3D_00_AA</th>\n",
       "    </tr>\n",
       "    <tr>\n",
       "      <th>Nazwa</th>\n",
       "      <th></th>\n",
       "      <th></th>\n",
       "      <th></th>\n",
       "      <th></th>\n",
       "    </tr>\n",
       "  </thead>\n",
       "  <tbody>\n",
       "    <tr>\n",
       "      <th>acetaminophen</th>\n",
       "      <td>-0.63</td>\n",
       "      <td>2</td>\n",
       "      <td>0</td>\n",
       "      <td>2</td>\n",
       "    </tr>\n",
       "    <tr>\n",
       "      <th>acetylsalicylic acid</th>\n",
       "      <td>1.22</td>\n",
       "      <td>1</td>\n",
       "      <td>0</td>\n",
       "      <td>4</td>\n",
       "    </tr>\n",
       "    <tr>\n",
       "      <th>bromazepam</th>\n",
       "      <td>0.57</td>\n",
       "      <td>1</td>\n",
       "      <td>0</td>\n",
       "      <td>3</td>\n",
       "    </tr>\n",
       "    <tr>\n",
       "      <th>carbamazepine</th>\n",
       "      <td>0.68</td>\n",
       "      <td>0</td>\n",
       "      <td>0</td>\n",
       "      <td>3</td>\n",
       "    </tr>\n",
       "    <tr>\n",
       "      <th>chlorpromazine</th>\n",
       "      <td>1.50</td>\n",
       "      <td>0</td>\n",
       "      <td>0</td>\n",
       "      <td>2</td>\n",
       "    </tr>\n",
       "    <tr>\n",
       "      <th>clonidine</th>\n",
       "      <td>0.26</td>\n",
       "      <td>2</td>\n",
       "      <td>0</td>\n",
       "      <td>1</td>\n",
       "    </tr>\n",
       "    <tr>\n",
       "      <th>diazepam</th>\n",
       "      <td>1.25</td>\n",
       "      <td>0</td>\n",
       "      <td>0</td>\n",
       "      <td>3</td>\n",
       "    </tr>\n",
       "    <tr>\n",
       "      <th>diltiazem</th>\n",
       "      <td>1.09</td>\n",
       "      <td>0</td>\n",
       "      <td>3</td>\n",
       "      <td>6</td>\n",
       "    </tr>\n",
       "    <tr>\n",
       "      <th>diphenhydramine</th>\n",
       "      <td>0.46</td>\n",
       "      <td>0</td>\n",
       "      <td>0</td>\n",
       "      <td>2</td>\n",
       "    </tr>\n",
       "    <tr>\n",
       "      <th>fluoxetine</th>\n",
       "      <td>0.73</td>\n",
       "      <td>1</td>\n",
       "      <td>0</td>\n",
       "      <td>1</td>\n",
       "    </tr>\n",
       "    <tr>\n",
       "      <th>flurbiprofen</th>\n",
       "      <td>1.45</td>\n",
       "      <td>1</td>\n",
       "      <td>3</td>\n",
       "      <td>2</td>\n",
       "    </tr>\n",
       "    <tr>\n",
       "      <th>imipramine</th>\n",
       "      <td>0.57</td>\n",
       "      <td>0</td>\n",
       "      <td>0</td>\n",
       "      <td>2</td>\n",
       "    </tr>\n",
       "    <tr>\n",
       "      <th>ketoconazole</th>\n",
       "      <td>1.48</td>\n",
       "      <td>0</td>\n",
       "      <td>4</td>\n",
       "      <td>8</td>\n",
       "    </tr>\n",
       "    <tr>\n",
       "      <th>ketoprofen</th>\n",
       "      <td>1.25</td>\n",
       "      <td>1</td>\n",
       "      <td>3</td>\n",
       "      <td>3</td>\n",
       "    </tr>\n",
       "    <tr>\n",
       "      <th>metronidazole</th>\n",
       "      <td>-0.97</td>\n",
       "      <td>2</td>\n",
       "      <td>0</td>\n",
       "      <td>6</td>\n",
       "    </tr>\n",
       "    <tr>\n",
       "      <th>nizatidine</th>\n",
       "      <td>-0.63</td>\n",
       "      <td>3</td>\n",
       "      <td>0</td>\n",
       "      <td>5</td>\n",
       "    </tr>\n",
       "    <tr>\n",
       "      <th>propranolol</th>\n",
       "      <td>0.30</td>\n",
       "      <td>2</td>\n",
       "      <td>0</td>\n",
       "      <td>2</td>\n",
       "    </tr>\n",
       "    <tr>\n",
       "      <th>ranitidine</th>\n",
       "      <td>-0.03</td>\n",
       "      <td>3</td>\n",
       "      <td>2</td>\n",
       "      <td>5</td>\n",
       "    </tr>\n",
       "    <tr>\n",
       "      <th>trazodone</th>\n",
       "      <td>1.04</td>\n",
       "      <td>0</td>\n",
       "      <td>6</td>\n",
       "      <td>6</td>\n",
       "    </tr>\n",
       "    <tr>\n",
       "      <th>acyclovir</th>\n",
       "      <td>-0.11</td>\n",
       "      <td>3</td>\n",
       "      <td>0</td>\n",
       "      <td>6</td>\n",
       "    </tr>\n",
       "    <tr>\n",
       "      <th>diclofenac</th>\n",
       "      <td>1.98</td>\n",
       "      <td>0</td>\n",
       "      <td>1</td>\n",
       "      <td>3</td>\n",
       "    </tr>\n",
       "    <tr>\n",
       "      <th>famotidine</th>\n",
       "      <td>0.01</td>\n",
       "      <td>4</td>\n",
       "      <td>1</td>\n",
       "      <td>5</td>\n",
       "    </tr>\n",
       "    <tr>\n",
       "      <th>ibuprofen</th>\n",
       "      <td>0.73</td>\n",
       "      <td>0</td>\n",
       "      <td>5</td>\n",
       "      <td>2</td>\n",
       "    </tr>\n",
       "    <tr>\n",
       "      <th>indomethacin</th>\n",
       "      <td>1.63</td>\n",
       "      <td>1</td>\n",
       "      <td>4</td>\n",
       "      <td>5</td>\n",
       "    </tr>\n",
       "    <tr>\n",
       "      <th>methylprednisolone</th>\n",
       "      <td>1.32</td>\n",
       "      <td>3</td>\n",
       "      <td>2</td>\n",
       "      <td>5</td>\n",
       "    </tr>\n",
       "    <tr>\n",
       "      <th>quinidine</th>\n",
       "      <td>0.47</td>\n",
       "      <td>1</td>\n",
       "      <td>2</td>\n",
       "      <td>4</td>\n",
       "    </tr>\n",
       "    <tr>\n",
       "      <th>zidovudine</th>\n",
       "      <td>-0.43</td>\n",
       "      <td>3</td>\n",
       "      <td>0</td>\n",
       "      <td>7</td>\n",
       "    </tr>\n",
       "  </tbody>\n",
       "</table>\n",
       "</div>"
      ],
      "text/plain": [
       "                      logKCTAB  CATS3D_00_DD  CATS3D_09_AL  CATS3D_00_AA\n",
       "Nazwa                                                                   \n",
       "acetaminophen            -0.63             2             0             2\n",
       "acetylsalicylic acid      1.22             1             0             4\n",
       "bromazepam                0.57             1             0             3\n",
       "carbamazepine             0.68             0             0             3\n",
       "chlorpromazine            1.50             0             0             2\n",
       "clonidine                 0.26             2             0             1\n",
       "diazepam                  1.25             0             0             3\n",
       "diltiazem                 1.09             0             3             6\n",
       "diphenhydramine           0.46             0             0             2\n",
       "fluoxetine                0.73             1             0             1\n",
       "flurbiprofen              1.45             1             3             2\n",
       "imipramine                0.57             0             0             2\n",
       "ketoconazole              1.48             0             4             8\n",
       "ketoprofen                1.25             1             3             3\n",
       "metronidazole            -0.97             2             0             6\n",
       "nizatidine               -0.63             3             0             5\n",
       "propranolol               0.30             2             0             2\n",
       "ranitidine               -0.03             3             2             5\n",
       "trazodone                 1.04             0             6             6\n",
       "acyclovir                -0.11             3             0             6\n",
       "diclofenac                1.98             0             1             3\n",
       "famotidine                0.01             4             1             5\n",
       "ibuprofen                 0.73             0             5             2\n",
       "indomethacin              1.63             1             4             5\n",
       "methylprednisolone        1.32             3             2             5\n",
       "quinidine                 0.47             1             2             4\n",
       "zidovudine               -0.43             3             0             7"
      ]
     },
     "execution_count": 3,
     "metadata": {},
     "output_type": "execute_result"
    }
   ],
   "source": [
    "zmienne_niezalezne = data[['logKCTAB', 'CATS3D_00_DD','CATS3D_09_AL','CATS3D_00_AA']]\n",
    "zmienne_zalezne = data[['logK HSA']]\n",
    "\n",
    "zmienne_niezalezne"
   ]
  },
  {
   "cell_type": "code",
   "execution_count": 4,
   "metadata": {},
   "outputs": [
    {
     "data": {
      "text/plain": [
       "array([[-2.30069689, -0.64995536, -0.94942897, -0.77936406],\n",
       "       [-0.69609081, -0.55355085,  1.0299943 ,  0.6063953 ],\n",
       "       [-1.49255833, -0.24136433,  0.47664118, -0.01366872],\n",
       "       [-1.50687237,  0.34610715,  1.25036455, -0.27467546],\n",
       "       [-2.21652612,  1.10365714,  1.02774028,  0.46380134],\n",
       "       [-3.00621666,  0.12880242, -1.15630425,  0.02380517],\n",
       "       [-1.47320989,  0.51879911,  1.37860635,  0.25210567],\n",
       "       [ 2.73902658,  0.69723128,  1.14828475, -0.19261657],\n",
       "       [-2.27794539,  0.78857006,  0.79375524, -0.49734319],\n",
       "       [-2.99927018,  0.8253425 , -0.30158606,  0.0955023 ],\n",
       "       [-0.25122452,  2.28861872, -1.14814525,  0.42535881],\n",
       "       [-2.27144912,  0.82189658,  0.81850366, -0.39568367],\n",
       "       [ 4.92736781,  0.38190869,  1.57836698,  0.08821003],\n",
       "       [ 0.49504456,  1.7189091 , -0.78602991,  0.25987202],\n",
       "       [ 0.71154566, -2.7894284 ,  0.60252579, -1.01618963],\n",
       "       [-0.00564514, -2.73144817, -0.47706652, -0.35865173],\n",
       "       [-2.24577389, -0.36819479, -0.74019235,  0.08012095],\n",
       "       [ 1.32808515, -1.38016385, -1.28584935, -0.04074521],\n",
       "       [ 4.68351787,  2.43633782, -0.27862583, -0.59372537],\n",
       "       [ 0.78314498, -3.08302057,  0.04703847,  0.14126923],\n",
       "       [-0.78095024,  1.32471766,  1.07095874,  0.80845522],\n",
       "       [ 0.70210969, -2.50694173, -1.55393778,  0.47718812],\n",
       "       [ 0.98374023,  3.79412977, -1.50493414, -0.83931515],\n",
       "       [ 2.68279522,  1.40055683, -0.35819754,  0.53145684],\n",
       "       [ 1.40781208, -0.97115658, -0.98211878,  1.20689432],\n",
       "       [ 0.55791254,  0.38872619, -0.08251911, -0.32333772],\n",
       "       [ 1.52232722, -3.68908639,  0.38215554, -0.13511886]])"
      ]
     },
     "execution_count": 4,
     "metadata": {},
     "output_type": "execute_result"
    }
   ],
   "source": [
    "pca = PCA()\n",
    "dane_fitransform = pca.fit_transform(zmienne_niezalezne)\n",
    "dane_fitransform"
   ]
  },
  {
   "cell_type": "code",
   "execution_count": 5,
   "metadata": {},
   "outputs": [],
   "source": [
    "X_train, X_test,y_train,y_test = train_test_split(dane_fitransform, zmienne_zalezne, test_size=0.33, random_state=42)\n",
    "dane_kfold = KFold(n_splits=10,shuffle=True, random_state=1)"
   ]
  },
  {
   "cell_type": "code",
   "execution_count": 6,
   "metadata": {},
   "outputs": [
    {
     "data": {
      "text/plain": [
       "([<matplotlib.axis.XTick at 0x277b5626a00>,\n",
       "  <matplotlib.axis.XTick at 0x277b56269d0>,\n",
       "  <matplotlib.axis.XTick at 0x277b561c550>,\n",
       "  <matplotlib.axis.XTick at 0x277b7659730>],\n",
       " [Text(0, 0, '1'), Text(1, 0, '2'), Text(2, 0, '3'), Text(3, 0, '4')])"
      ]
     },
     "execution_count": 6,
     "metadata": {},
     "output_type": "execute_result"
    },
    {
     "data": {
      "image/png": "[encoded data removed]",
      "text/plain": [
       "<Figure size 432x288 with 1 Axes>"
      ]
     },
     "metadata": {
      "needs_background": "light"
     },
     "output_type": "display_data"
    }
   ],
   "source": [
    "lin_reg = LinearRegression().fit(X_train,y_train)\n",
    "rmse_list = []\n",
    "\n",
    "for i in range(1, X_train.shape[1]+1):\n",
    "    rmse_score = -1 * cross_val_score(lin_reg, \n",
    "                                      X_train[:,:i], # Use first k principal components\n",
    "                                      y_train, \n",
    "                                      cv=dane_kfold, \n",
    "                                      scoring='neg_root_mean_squared_error').mean()\n",
    "    rmse_list.append(rmse_score)\n",
    "    \n",
    "plt.plot(rmse_list, '-o')\n",
    "plt.xlabel('Number of principal components in regression')\n",
    "plt.ylabel('RMSE')\n",
    "plt.title('Quality')\n",
    "plt.xlim(xmin=-1);\n",
    "plt.xticks(np.arange(X_train.shape[1]), np.arange(1, X_train.shape[1]+1))"
   ]
  },
  {
   "cell_type": "code",
   "execution_count": 7,
   "metadata": {},
   "outputs": [
    {
     "name": "stdout",
     "output_type": "stream",
     "text": [
      "Udział procentowy: 35.06491715335797%\n",
      "Udział procentowy: 27.739088111118658%\n",
      "Udział procentowy: 18.110980228593103%\n",
      "Udział procentowy: 19.08501450693028%\n"
     ]
    },
    {
     "data": {
      "text/html": [
       "<div>\n",
       "<style scoped>\n",
       "    .dataframe tbody tr th:only-of-type {\n",
       "        vertical-align: middle;\n",
       "    }\n",
       "\n",
       "    .dataframe tbody tr th {\n",
       "        vertical-align: top;\n",
       "    }\n",
       "\n",
       "    .dataframe thead th {\n",
       "        text-align: right;\n",
       "    }\n",
       "</style>\n",
       "<table border=\"1\" class=\"dataframe\">\n",
       "  <thead>\n",
       "    <tr style=\"text-align: right;\">\n",
       "      <th></th>\n",
       "      <th>logKCTAB</th>\n",
       "      <th>CATS3D_00_DD</th>\n",
       "      <th>CATS3D_09_AL</th>\n",
       "      <th>CATS3D_00_AA</th>\n",
       "    </tr>\n",
       "  </thead>\n",
       "  <tbody>\n",
       "    <tr>\n",
       "      <th>logKCTAB</th>\n",
       "      <td>1.000000</td>\n",
       "      <td>0.067918</td>\n",
       "      <td>-0.204927</td>\n",
       "      <td>-0.230498</td>\n",
       "    </tr>\n",
       "    <tr>\n",
       "      <th>CATS3D_00_DD</th>\n",
       "      <td>0.067918</td>\n",
       "      <td>1.000000</td>\n",
       "      <td>-0.213017</td>\n",
       "      <td>0.040158</td>\n",
       "    </tr>\n",
       "    <tr>\n",
       "      <th>CATS3D_09_AL</th>\n",
       "      <td>-0.204927</td>\n",
       "      <td>-0.213017</td>\n",
       "      <td>1.000000</td>\n",
       "      <td>0.079211</td>\n",
       "    </tr>\n",
       "    <tr>\n",
       "      <th>CATS3D_00_AA</th>\n",
       "      <td>-0.230498</td>\n",
       "      <td>0.040158</td>\n",
       "      <td>0.079211</td>\n",
       "      <td>1.000000</td>\n",
       "    </tr>\n",
       "  </tbody>\n",
       "</table>\n",
       "</div>"
      ],
      "text/plain": [
       "              logKCTAB  CATS3D_00_DD  CATS3D_09_AL  CATS3D_00_AA\n",
       "logKCTAB      1.000000      0.067918     -0.204927     -0.230498\n",
       "CATS3D_00_DD  0.067918      1.000000     -0.213017      0.040158\n",
       "CATS3D_09_AL -0.204927     -0.213017      1.000000      0.079211\n",
       "CATS3D_00_AA -0.230498      0.040158      0.079211      1.000000"
      ]
     },
     "execution_count": 7,
     "metadata": {},
     "output_type": "execute_result"
    }
   ],
   "source": [
    "X_train_pd = pd.DataFrame(X_train, columns = ['logKCTAB','CATS3D_00_DD','CATS3D_09_AL', 'CATS3D_00_AA'])\n",
    "X_train_pd.head()\n",
    "X_train_corr = X_train_pd.corr()\n",
    "\n",
    "values, vectors = eig(X_train_corr)\n",
    "\n",
    "for i in values:\n",
    "    print(f'Udział procentowy: {i/4 * 100}%')\n",
    "    \n",
    "X_train_corr"
   ]
  },
  {
   "cell_type": "code",
   "execution_count": 8,
   "metadata": {},
   "outputs": [
    {
     "data": {
      "text/html": [
       "<div>\n",
       "<style scoped>\n",
       "    .dataframe tbody tr th:only-of-type {\n",
       "        vertical-align: middle;\n",
       "    }\n",
       "\n",
       "    .dataframe tbody tr th {\n",
       "        vertical-align: top;\n",
       "    }\n",
       "\n",
       "    .dataframe thead th {\n",
       "        text-align: right;\n",
       "    }\n",
       "</style>\n",
       "<table border=\"1\" class=\"dataframe\">\n",
       "  <thead>\n",
       "    <tr style=\"text-align: right;\">\n",
       "      <th></th>\n",
       "      <th>logKCTAB</th>\n",
       "      <th>CATS3D_00_DD</th>\n",
       "      <th>CATS3D_09_AL</th>\n",
       "      <th>CATS3D_00_AA</th>\n",
       "    </tr>\n",
       "  </thead>\n",
       "  <tbody>\n",
       "    <tr>\n",
       "      <th>logKCTAB</th>\n",
       "      <td>1.000000</td>\n",
       "      <td>0.067918</td>\n",
       "      <td>-0.204927</td>\n",
       "      <td>-0.230498</td>\n",
       "    </tr>\n",
       "    <tr>\n",
       "      <th>CATS3D_00_DD</th>\n",
       "      <td>0.067918</td>\n",
       "      <td>1.000000</td>\n",
       "      <td>-0.213017</td>\n",
       "      <td>0.040158</td>\n",
       "    </tr>\n",
       "    <tr>\n",
       "      <th>CATS3D_09_AL</th>\n",
       "      <td>-0.204927</td>\n",
       "      <td>-0.213017</td>\n",
       "      <td>1.000000</td>\n",
       "      <td>0.079211</td>\n",
       "    </tr>\n",
       "    <tr>\n",
       "      <th>CATS3D_00_AA</th>\n",
       "      <td>-0.230498</td>\n",
       "      <td>0.040158</td>\n",
       "      <td>0.079211</td>\n",
       "      <td>1.000000</td>\n",
       "    </tr>\n",
       "  </tbody>\n",
       "</table>\n",
       "</div>"
      ],
      "text/plain": [
       "              logKCTAB  CATS3D_00_DD  CATS3D_09_AL  CATS3D_00_AA\n",
       "logKCTAB      1.000000      0.067918     -0.204927     -0.230498\n",
       "CATS3D_00_DD  0.067918      1.000000     -0.213017      0.040158\n",
       "CATS3D_09_AL -0.204927     -0.213017      1.000000      0.079211\n",
       "CATS3D_00_AA -0.230498      0.040158      0.079211      1.000000"
      ]
     },
     "execution_count": 8,
     "metadata": {},
     "output_type": "execute_result"
    }
   ],
   "source": [
    "X_train_corr"
   ]
  },
  {
   "cell_type": "code",
   "execution_count": 9,
   "metadata": {},
   "outputs": [
    {
     "data": {
      "image/png": "[encoded data removed]",
      "text/plain": [
       "<Figure size 432x288 with 1 Axes>"
      ]
     },
     "metadata": {
      "needs_background": "light"
     },
     "output_type": "display_data"
    }
   ],
   "source": [
    "values, vectors = eig(X_train_corr)\n",
    "\n",
    "values[2], values[3] = values[3],values[2]\n",
    "vectors[2], vectors[3] = vectors[3],vectors[2]\n",
    "val = pd.DataFrame(values, columns=['w.wlasne']) \n",
    "\n",
    "plt.plot(val, 'o-', linewidth=3, color='orange')\n",
    "plt.axhline(1)\n",
    "plt.title('Plot')\n",
    "plt.xlabel('Principal Component')\n",
    "plt.ylabel('Eigenvalues')\n",
    "plt.show()"
   ]
  },
  {
   "cell_type": "code",
   "execution_count": 10,
   "metadata": {},
   "outputs": [
    {
     "name": "stdout",
     "output_type": "stream",
     "text": [
      "                            OLS Regression Results                            \n",
      "==============================================================================\n",
      "Dep. Variable:               logK HSA   R-squared:                       0.847\n",
      "Model:                            OLS   Adj. R-squared:                  0.826\n",
      "Method:                 Least Squares   F-statistic:                     41.44\n",
      "Date:                Mon, 28 Nov 2022   Prob (F-statistic):           7.77e-07\n",
      "Time:                        13:31:14   Log-Likelihood:                -11.107\n",
      "No. Observations:                  18   AIC:                             28.21\n",
      "Df Residuals:                      15   BIC:                             30.88\n",
      "Df Model:                           2                                         \n",
      "Covariance Type:            nonrobust                                         \n",
      "==============================================================================\n",
      "                 coef    std err          t      P>|t|      [0.025      0.975]\n",
      "------------------------------------------------------------------------------\n",
      "const          0.4406      0.117      3.770      0.002       0.191       0.690\n",
      "x1             0.0509      0.062      0.826      0.421      -0.080       0.182\n",
      "x2             0.5246      0.058      8.989      0.000       0.400       0.649\n",
      "==============================================================================\n",
      "Omnibus:                        2.214   Durbin-Watson:                   2.909\n",
      "Prob(Omnibus):                  0.331   Jarque-Bera (JB):                1.673\n",
      "Skew:                          -0.591   Prob(JB):                        0.433\n",
      "Kurtosis:                       2.086   Cond. No.                         2.05\n",
      "==============================================================================\n",
      "\n",
      "Notes:\n",
      "[1] Standard Errors assume that the covariance matrix of the errors is correctly specified.\n"
     ]
    },
    {
     "name": "stderr",
     "output_type": "stream",
     "text": [
      "C:\\Users\\48512\\anaconda3\\lib\\site-packages\\scipy\\stats\\_stats_py.py:1477: UserWarning: kurtosistest only valid for n>=20 ... continuing anyway, n=18\n",
      "  warnings.warn(\"kurtosistest only valid for n>=20 ... continuing \"\n"
     ]
    },
    {
     "data": {
      "text/html": [
       "<div>\n",
       "<style scoped>\n",
       "    .dataframe tbody tr th:only-of-type {\n",
       "        vertical-align: middle;\n",
       "    }\n",
       "\n",
       "    .dataframe tbody tr th {\n",
       "        vertical-align: top;\n",
       "    }\n",
       "\n",
       "    .dataframe thead th {\n",
       "        text-align: right;\n",
       "    }\n",
       "</style>\n",
       "<table border=\"1\" class=\"dataframe\">\n",
       "  <thead>\n",
       "    <tr style=\"text-align: right;\">\n",
       "      <th></th>\n",
       "      <th>0</th>\n",
       "    </tr>\n",
       "  </thead>\n",
       "  <tbody>\n",
       "    <tr>\n",
       "      <th>0</th>\n",
       "      <td>1.021726</td>\n",
       "    </tr>\n",
       "    <tr>\n",
       "      <th>1</th>\n",
       "      <td>0.695562</td>\n",
       "    </tr>\n",
       "    <tr>\n",
       "      <th>2</th>\n",
       "      <td>-0.251200</td>\n",
       "    </tr>\n",
       "    <tr>\n",
       "      <th>3</th>\n",
       "      <td>0.220014</td>\n",
       "    </tr>\n",
       "    <tr>\n",
       "      <th>4</th>\n",
       "      <td>0.491249</td>\n",
       "    </tr>\n",
       "    <tr>\n",
       "      <th>5</th>\n",
       "      <td>1.873230</td>\n",
       "    </tr>\n",
       "    <tr>\n",
       "      <th>6</th>\n",
       "      <td>-1.499728</td>\n",
       "    </tr>\n",
       "    <tr>\n",
       "      <th>7</th>\n",
       "      <td>0.182332</td>\n",
       "    </tr>\n",
       "    <tr>\n",
       "      <th>8</th>\n",
       "      <td>0.265072</td>\n",
       "    </tr>\n",
       "    <tr>\n",
       "      <th>9</th>\n",
       "      <td>-0.157578</td>\n",
       "    </tr>\n",
       "    <tr>\n",
       "      <th>10</th>\n",
       "      <td>-0.599112</td>\n",
       "    </tr>\n",
       "    <tr>\n",
       "      <th>11</th>\n",
       "      <td>2.453381</td>\n",
       "    </tr>\n",
       "    <tr>\n",
       "      <th>12</th>\n",
       "      <td>-0.294097</td>\n",
       "    </tr>\n",
       "    <tr>\n",
       "      <th>13</th>\n",
       "      <td>0.214249</td>\n",
       "    </tr>\n",
       "    <tr>\n",
       "      <th>14</th>\n",
       "      <td>-0.772797</td>\n",
       "    </tr>\n",
       "    <tr>\n",
       "      <th>15</th>\n",
       "      <td>1.940152</td>\n",
       "    </tr>\n",
       "    <tr>\n",
       "      <th>16</th>\n",
       "      <td>2.097815</td>\n",
       "    </tr>\n",
       "    <tr>\n",
       "      <th>17</th>\n",
       "      <td>0.093452</td>\n",
       "    </tr>\n",
       "  </tbody>\n",
       "</table>\n",
       "</div>"
      ],
      "text/plain": [
       "           0\n",
       "0   1.021726\n",
       "1   0.695562\n",
       "2  -0.251200\n",
       "3   0.220014\n",
       "4   0.491249\n",
       "5   1.873230\n",
       "6  -1.499728\n",
       "7   0.182332\n",
       "8   0.265072\n",
       "9  -0.157578\n",
       "10 -0.599112\n",
       "11  2.453381\n",
       "12 -0.294097\n",
       "13  0.214249\n",
       "14 -0.772797\n",
       "15  1.940152\n",
       "16  2.097815\n",
       "17  0.093452"
      ]
     },
     "execution_count": 10,
     "metadata": {},
     "output_type": "execute_result"
    }
   ],
   "source": [
    "X = X_train[:,0:2]\n",
    "Y = y_train\n",
    "X = sm.add_constant(X)\n",
    "statOLS = sm.OLS(Y,X).fit()\n",
    "print(statOLS.summary())\n",
    "\n",
    "y_pred_pca_train = 0.4406 + 0.0509*X_train[:,0] + (-0.5246 * X_train[:,1])\n",
    "y_pred_pca_train = pd.DataFrame(y_pred_pca_train)\n",
    "y_pred_pca_train #predykcyjne pca po treningowych"
   ]
  },
  {
   "cell_type": "code",
   "execution_count": 11,
   "metadata": {},
   "outputs": [
    {
     "name": "stdout",
     "output_type": "stream",
     "text": [
      "                            OLS Regression Results                            \n",
      "==============================================================================\n",
      "Dep. Variable:               logK HSA   R-squared:                       0.766\n",
      "Model:                            OLS   Adj. R-squared:                  0.688\n",
      "Method:                 Least Squares   F-statistic:                     9.823\n",
      "Date:                Mon, 28 Nov 2022   Prob (F-statistic):             0.0128\n",
      "Time:                        13:31:14   Log-Likelihood:                -4.7744\n",
      "No. Observations:                   9   AIC:                             15.55\n",
      "Df Residuals:                       6   BIC:                             16.14\n",
      "Df Model:                           2                                         \n",
      "Covariance Type:            nonrobust                                         \n",
      "==============================================================================\n",
      "                 coef    std err          t      P>|t|      [0.025      0.975]\n",
      "------------------------------------------------------------------------------\n",
      "const          0.3523      0.172      2.048      0.086      -0.069       0.773\n",
      "x1             0.0790      0.070      1.134      0.300      -0.091       0.249\n",
      "x2             0.6086      0.138      4.418      0.004       0.272       0.946\n",
      "==============================================================================\n",
      "Omnibus:                        0.121   Durbin-Watson:                   1.820\n",
      "Prob(Omnibus):                  0.942   Jarque-Bera (JB):                0.245\n",
      "Skew:                           0.199   Prob(JB):                        0.885\n",
      "Kurtosis:                       2.296   Cond. No.                         2.61\n",
      "==============================================================================\n",
      "\n",
      "Notes:\n",
      "[1] Standard Errors assume that the covariance matrix of the errors is correctly specified.\n"
     ]
    },
    {
     "name": "stderr",
     "output_type": "stream",
     "text": [
      "C:\\Users\\48512\\anaconda3\\lib\\site-packages\\scipy\\stats\\_stats_py.py:1477: UserWarning: kurtosistest only valid for n>=20 ... continuing anyway, n=9\n",
      "  warnings.warn(\"kurtosistest only valid for n>=20 ... continuing \"\n"
     ]
    },
    {
     "data": {
      "text/html": [
       "<div>\n",
       "<style scoped>\n",
       "    .dataframe tbody tr th:only-of-type {\n",
       "        vertical-align: middle;\n",
       "    }\n",
       "\n",
       "    .dataframe tbody tr th {\n",
       "        vertical-align: top;\n",
       "    }\n",
       "\n",
       "    .dataframe thead th {\n",
       "        text-align: right;\n",
       "    }\n",
       "</style>\n",
       "<table border=\"1\" class=\"dataframe\">\n",
       "  <thead>\n",
       "    <tr style=\"text-align: right;\">\n",
       "      <th></th>\n",
       "      <th>0</th>\n",
       "    </tr>\n",
       "  </thead>\n",
       "  <tbody>\n",
       "    <tr>\n",
       "      <th>0</th>\n",
       "      <td>-0.307581</td>\n",
       "    </tr>\n",
       "    <tr>\n",
       "      <th>1</th>\n",
       "      <td>-0.654720</td>\n",
       "    </tr>\n",
       "    <tr>\n",
       "      <th>2</th>\n",
       "      <td>-0.386946</td>\n",
       "    </tr>\n",
       "    <tr>\n",
       "      <th>3</th>\n",
       "      <td>1.933491</td>\n",
       "    </tr>\n",
       "    <tr>\n",
       "      <th>4</th>\n",
       "      <td>0.566108</td>\n",
       "    </tr>\n",
       "    <tr>\n",
       "      <th>5</th>\n",
       "      <td>-0.327351</td>\n",
       "    </tr>\n",
       "    <tr>\n",
       "      <th>6</th>\n",
       "      <td>0.398967</td>\n",
       "    </tr>\n",
       "    <tr>\n",
       "      <th>7</th>\n",
       "      <td>1.297186</td>\n",
       "    </tr>\n",
       "    <tr>\n",
       "      <th>8</th>\n",
       "      <td>0.509132</td>\n",
       "    </tr>\n",
       "  </tbody>\n",
       "</table>\n",
       "</div>"
      ],
      "text/plain": [
       "          0\n",
       "0 -0.307581\n",
       "1 -0.654720\n",
       "2 -0.386946\n",
       "3  1.933491\n",
       "4  0.566108\n",
       "5 -0.327351\n",
       "6  0.398967\n",
       "7  1.297186\n",
       "8  0.509132"
      ]
     },
     "execution_count": 11,
     "metadata": {},
     "output_type": "execute_result"
    }
   ],
   "source": [
    "X = X_test[:,0:2]\n",
    "Y = y_test\n",
    "X = sm.add_constant(X)\n",
    "statOLS = sm.OLS(Y,X).fit()\n",
    "print(statOLS.summary())\n",
    "\n",
    "y_pred_pca_test = 0.3523 + 0.0790*X_test[:,0] + (-0.6086 * X_test[:,1])\n",
    "y_pred_pca_test = pd.DataFrame(y_pred_pca_test)\n",
    "y_pred_pca_test"
   ]
  },
  {
   "cell_type": "code",
   "execution_count": 12,
   "metadata": {},
   "outputs": [],
   "source": [
    "lin = LinearRegression()\n",
    "\n",
    "lin_pca = lin.fit(X_train[:,0:2],y_train)\n",
    "pred1 = lin_pca.predict(X_train[:,0:2])\n",
    "pred2 = lin_pca.predict(X_test[:,0:2])\n",
    "\n",
    "r2 = metrics.r2_score(y_train,pred1)\n",
    "q2 = metrics.r2_score(y_test,pred2)\n",
    "\n",
    "rmse = np.sqrt(metrics.mean_squared_error(y_train,pred1))\n",
    "rmse_ex = np.sqrt(metrics.mean_squared_error(y_test,pred2))"
   ]
  },
  {
   "cell_type": "code",
   "execution_count": 13,
   "metadata": {},
   "outputs": [
    {
     "data": {
      "text/plain": [
       "0.8467518841419464"
      ]
     },
     "execution_count": 13,
     "metadata": {},
     "output_type": "execute_result"
    }
   ],
   "source": [
    "r2"
   ]
  },
  {
   "cell_type": "code",
   "execution_count": 14,
   "metadata": {},
   "outputs": [
    {
     "data": {
      "text/plain": [
       "0.7324491816116452"
      ]
     },
     "execution_count": 14,
     "metadata": {},
     "output_type": "execute_result"
    }
   ],
   "source": [
    "q2"
   ]
  },
  {
   "cell_type": "code",
   "execution_count": 15,
   "metadata": {},
   "outputs": [
    {
     "data": {
      "text/plain": [
       "0.4484752129938628"
      ]
     },
     "execution_count": 15,
     "metadata": {},
     "output_type": "execute_result"
    }
   ],
   "source": [
    "rmse"
   ]
  },
  {
   "cell_type": "code",
   "execution_count": 16,
   "metadata": {},
   "outputs": [
    {
     "data": {
      "text/plain": [
       "0.43982404125800406"
      ]
     },
     "execution_count": 16,
     "metadata": {},
     "output_type": "execute_result"
    }
   ],
   "source": [
    "rmse_ex"
   ]
  },
  {
   "cell_type": "code",
   "execution_count": 17,
   "metadata": {},
   "outputs": [
    {
     "data": {
      "image/png": "[encoded data removed]",
      "text/plain": [
       "<Figure size 720x720 with 1 Axes>"
      ]
     },
     "metadata": {
      "needs_background": "light"
     },
     "output_type": "display_data"
    }
   ],
   "source": [
    "\n",
    "#cos tu srednio wychodzi prawda\n",
    "\n",
    "list_of_columns = []\n",
    "for column in data.columns:\n",
    "    list_of_columns.append(column)\n",
    "\n",
    "data = pd.read_excel(r'dane_leki.xlsx')\n",
    "data = data.drop('Unnamed: 0',axis = 1)\n",
    "\n",
    "data.drop('Zbiór', inplace=True, axis=1)\n",
    "\n",
    "nazwy = data['Nazwa']\n",
    "data.drop('Nazwa', inplace=True, axis=1)\n",
    "data = data.set_axis([nazwy])\n",
    "\n",
    "y = len(list_of_columns[1:])\n",
    "X = np.array(data) \n",
    "pca = PCA()\n",
    "x_new = pca.fit_transform(X)\n",
    "\n",
    "def myplot(score,coeff,labels=None):\n",
    "    xs = score[:,0]\n",
    "    ys = score[:,1]\n",
    "    n = 4\n",
    "    #coeff.shape[0]\n",
    "    scalex = 1.0/(xs.max() - xs.min())\n",
    "    scaley = 1.0/(ys.max() - ys.min())\n",
    "    plt.scatter(xs * scalex,ys * scaley,s=20,color='#ecd0e2')\n",
    "    x_coord = xs*scalex\n",
    "    y_coord = ys*scaley\n",
    "    for i in range(n):\n",
    "        plt.arrow(0, 0, coeff[i,0], coeff[i,1],color = 'r',alpha = 0.5)\n",
    "        plt.text(coeff[i,0]* 1.15, coeff[i,1] * 1.15, labels[i], color = '#397048', ha = 'center', va = 'center')\n",
    "\n",
    "    for i in range(0,len(score)):\n",
    "      plt.text(x_coord[i] + 0, y_coord[i], i+1,color = 'k',ha = 'left', va = 'center',size = 10) #numerki przy punktach\n",
    "\n",
    "    plt.xlim(-1,1)\n",
    "    plt.ylim(-1,1)\n",
    "    plt.xlabel(\"PC{}\".format(1))\n",
    "    plt.ylabel(\"PC{}\".format(2))\n",
    "    plt.grid()\n",
    "\n",
    "plt.figure(figsize = (10,10))\n",
    "x = np.linspace(start = -0.7,stop = 0.7, num = 30)\n",
    "plt.scatter(x,[0]*len(x),marker='_',color='maroon')\n",
    "plt.scatter([0]*len(x),x,marker='|',color='maroon')\n",
    "\n",
    "\n",
    "myplot(x_new[:,0:2],np.transpose(pca.components_[0:2, :]),list_of_columns[1:]) #PC1 i PC2\n",
    "plt.show()\n"
   ]
  },
  {
   "cell_type": "code",
   "execution_count": 18,
   "metadata": {},
   "outputs": [
    {
     "data": {
      "text/plain": [
       "array([[ 0.19507812, -0.45395206],\n",
       "       [ 0.13227873, -0.25043181],\n",
       "       [-0.11057641,  0.47386867],\n",
       "       [ 0.75272132, -0.29067947],\n",
       "       [ 0.60467374,  0.64974254]])"
      ]
     },
     "execution_count": 18,
     "metadata": {},
     "output_type": "execute_result"
    }
   ],
   "source": [
    "np.transpose(pca.components_[0:2, :])"
   ]
  },
  {
   "cell_type": "code",
   "execution_count": 19,
   "metadata": {},
   "outputs": [
    {
     "data": {
      "image/png": "[encoded data removed]",
      "text/plain": [
       "<Figure size 432x288 with 1 Axes>"
      ]
     },
     "metadata": {
      "needs_background": "light"
     },
     "output_type": "display_data"
    },
    {
     "name": "stdout",
     "output_type": "stream",
     "text": [
      "[[1.941]\n",
      " [1.323]\n",
      " [0.397]\n",
      " [0.34 ]]\n",
      "[[ 0.641 -0.75   0.16  -0.017]\n",
      " [-0.609 -0.619 -0.436  0.236]\n",
      " [ 0.449  0.232 -0.653  0.564]\n",
      " [-0.125  0.003  0.599  0.791]]\n"
     ]
    }
   ],
   "source": [
    "list_of_columns = []\n",
    "for column in data.columns:\n",
    "    list_of_columns.append(column)\n",
    "\n",
    "data = pd.read_excel(r'dane_leki.xlsx')\n",
    "data = data.drop('Unnamed: 0',axis = 1)\n",
    "\n",
    "data.drop('Zbiór', inplace=True, axis=1)\n",
    "\n",
    "nazwy = data['Nazwa']\n",
    "data.drop('Nazwa', inplace=True, axis=1)\n",
    "data = data.set_axis([nazwy])\n",
    "\n",
    "data = data[['logKCTAB', 'CATS3D_00_DD','CATS3D_09_AL','CATS3D_00_AA']]\n",
    "\n",
    "data = pd.DataFrame(data)\n",
    "\n",
    "macierz_korelacji = data.corr()\n",
    "\n",
    "list_of_columns = []\n",
    "for column in data.columns:\n",
    "    list_of_columns.append(column)\n",
    "    \n",
    "#Scree plot napisany ręcznie\n",
    "\n",
    "values,vectors = eig(macierz_korelacji)\n",
    "val = pd.DataFrame(values, columns=['w.wlasne']) \n",
    "val[:2] \n",
    "val = val.sort_values(by='w.wlasne', ascending = False)\n",
    "\n",
    "valid_vectors = list(vectors)\n",
    "\n",
    "x = [1,2,3,4]\n",
    "plt.plot(x,val,'o-', linewidth=2, color='orange')\n",
    "plt.axhline(1)\n",
    "plt.title('Scree Plot')\n",
    "plt.xlabel('Principal Component')\n",
    "plt.ylabel('Eigenvalues')\n",
    "plt.show()\n",
    "\n",
    "val = list(np.around(np.array(val),3))\n",
    "valid_vectors = list(np.around(np.array(valid_vectors),3))\n",
    "print(np.array(val))\n",
    "print(np.array(valid_vectors))\n",
    "\n",
    "#val - moje wartosci wlasne\n",
    "#valid_vectors - moje wektory wlasne"
   ]
  },
  {
   "cell_type": "code",
   "execution_count": 20,
   "metadata": {},
   "outputs": [
    {
     "data": {
      "text/html": [
       "<div>\n",
       "<style scoped>\n",
       "    .dataframe tbody tr th:only-of-type {\n",
       "        vertical-align: middle;\n",
       "    }\n",
       "\n",
       "    .dataframe tbody tr th {\n",
       "        vertical-align: top;\n",
       "    }\n",
       "\n",
       "    .dataframe thead th {\n",
       "        text-align: right;\n",
       "    }\n",
       "</style>\n",
       "<table border=\"1\" class=\"dataframe\">\n",
       "  <thead>\n",
       "    <tr style=\"text-align: right;\">\n",
       "      <th></th>\n",
       "      <th>PC1</th>\n",
       "      <th>PC2</th>\n",
       "    </tr>\n",
       "  </thead>\n",
       "  <tbody>\n",
       "    <tr>\n",
       "      <th>logKCTAB</th>\n",
       "      <td>0.641</td>\n",
       "      <td>-0.609</td>\n",
       "    </tr>\n",
       "    <tr>\n",
       "      <th>CATS3D_00_DD</th>\n",
       "      <td>-0.750</td>\n",
       "      <td>-0.619</td>\n",
       "    </tr>\n",
       "    <tr>\n",
       "      <th>CATS3D_09_AL</th>\n",
       "      <td>0.160</td>\n",
       "      <td>-0.436</td>\n",
       "    </tr>\n",
       "    <tr>\n",
       "      <th>CATS3D_00_AA</th>\n",
       "      <td>-0.017</td>\n",
       "      <td>0.236</td>\n",
       "    </tr>\n",
       "  </tbody>\n",
       "</table>\n",
       "</div>"
      ],
      "text/plain": [
       "                PC1    PC2\n",
       "logKCTAB      0.641 -0.609\n",
       "CATS3D_00_DD -0.750 -0.619\n",
       "CATS3D_09_AL  0.160 -0.436\n",
       "CATS3D_00_AA -0.017  0.236"
      ]
     },
     "execution_count": 20,
     "metadata": {},
     "output_type": "execute_result"
    }
   ],
   "source": [
    "vec = pd.DataFrame(valid_vectors[:2])\n",
    "Pt = vec.transpose()\n",
    "index = pd.Index(list_of_columns)\n",
    "Pt = Pt.set_index(index)\n",
    "Pt = Pt.set_axis(['PC1', 'PC2'], axis=1)\n",
    "Pt"
   ]
  },
  {
   "cell_type": "code",
   "execution_count": 21,
   "metadata": {},
   "outputs": [
    {
     "data": {
      "image/png": "[encoded data removed]",
      "text/plain": [
       "<Figure size 1080x360 with 2 Axes>"
      ]
     },
     "metadata": {
      "needs_background": "light"
     },
     "output_type": "display_data"
    }
   ],
   "source": [
    "xlabels=list_of_columns\n",
    "\n",
    "fig, ax = plt.subplots(1,2,figsize=(15,5))\n",
    "ax[0].bar(range(4), Pt['PC1'], align='center',color='red')\n",
    "ax[1].bar(range(4), Pt['PC2'], align='center',color='goldenrod')\n",
    "\n",
    "\n",
    "ax[0].set_ylabel('PC1')\n",
    "ax[1].set_ylabel('PC2')\n",
    "\n",
    "\n",
    "ax[0].set_xticks(range(4))\n",
    "ax[1].set_xticks(range(4))\n",
    "\n",
    "\n",
    "ax[0].set_xticklabels(xlabels, rotation=45)\n",
    "ax[1].set_xticklabels(xlabels, rotation=45)\n",
    "\n",
    "\n",
    "plt.ylim([-1,1])\n",
    "plt.tight_layout()"
   ]
  },
  {
   "cell_type": "code",
   "execution_count": 22,
   "metadata": {},
   "outputs": [
    {
     "data": {
      "text/html": [
       "<div>\n",
       "<style scoped>\n",
       "    .dataframe tbody tr th:only-of-type {\n",
       "        vertical-align: middle;\n",
       "    }\n",
       "\n",
       "    .dataframe tbody tr th {\n",
       "        vertical-align: top;\n",
       "    }\n",
       "\n",
       "    .dataframe thead th {\n",
       "        text-align: right;\n",
       "    }\n",
       "</style>\n",
       "<table border=\"1\" class=\"dataframe\">\n",
       "  <thead>\n",
       "    <tr style=\"text-align: right;\">\n",
       "      <th></th>\n",
       "      <th>logKCTAB</th>\n",
       "      <th>CATS3D_00_DD</th>\n",
       "      <th>CATS3D_09_AL</th>\n",
       "      <th>CATS3D_00_AA</th>\n",
       "    </tr>\n",
       "  </thead>\n",
       "  <tbody>\n",
       "    <tr>\n",
       "      <th>logKCTAB</th>\n",
       "      <td>1.000000</td>\n",
       "      <td>-0.633481</td>\n",
       "      <td>0.446144</td>\n",
       "      <td>-0.135951</td>\n",
       "    </tr>\n",
       "    <tr>\n",
       "      <th>CATS3D_00_DD</th>\n",
       "      <td>-0.633481</td>\n",
       "      <td>1.000000</td>\n",
       "      <td>-0.291248</td>\n",
       "      <td>0.290864</td>\n",
       "    </tr>\n",
       "    <tr>\n",
       "      <th>CATS3D_09_AL</th>\n",
       "      <td>0.446144</td>\n",
       "      <td>-0.291248</td>\n",
       "      <td>1.000000</td>\n",
       "      <td>0.326375</td>\n",
       "    </tr>\n",
       "    <tr>\n",
       "      <th>CATS3D_00_AA</th>\n",
       "      <td>-0.135951</td>\n",
       "      <td>0.290864</td>\n",
       "      <td>0.326375</td>\n",
       "      <td>1.000000</td>\n",
       "    </tr>\n",
       "  </tbody>\n",
       "</table>\n",
       "</div>"
      ],
      "text/plain": [
       "              logKCTAB  CATS3D_00_DD  CATS3D_09_AL  CATS3D_00_AA\n",
       "logKCTAB      1.000000     -0.633481      0.446144     -0.135951\n",
       "CATS3D_00_DD -0.633481      1.000000     -0.291248      0.290864\n",
       "CATS3D_09_AL  0.446144     -0.291248      1.000000      0.326375\n",
       "CATS3D_00_AA -0.135951      0.290864      0.326375      1.000000"
      ]
     },
     "execution_count": 22,
     "metadata": {},
     "output_type": "execute_result"
    }
   ],
   "source": [
    "macierz_korelacji"
   ]
  },
  {
   "cell_type": "code",
   "execution_count": null,
   "metadata": {},
   "outputs": [],
   "source": []
  }
 ],
 "metadata": {
  "kernelspec": {
   "display_name": "Python 3",
   "language": "python",
   "name": "python3"
  },
  "language_info": {
   "codemirror_mode": {
    "name": "ipython",
    "version": 3
   },
   "file_extension": ".py",
   "mimetype": "text/x-python",
   "name": "python",
   "nbconvert_exporter": "python",
   "pygments_lexer": "ipython3",
   "version": "3.8.5"
  }
 },
 "nbformat": 4,
 "nbformat_minor": 4
}
