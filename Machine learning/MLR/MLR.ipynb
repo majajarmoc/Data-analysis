{
 "cells": [
  {
   "cell_type": "code",
   "execution_count": 1,
   "metadata": {},
   "outputs": [],
   "source": [
    "#BIBLIOTEKI\n",
    "import pandas as pd\n",
    "import csv\n",
    "import matplotlib.pyplot as plt\n",
    "import numpy as np\n",
    "from sklearn import linear_model\n",
    "from statsmodels.stats.outliers_influence import variance_inflation_factor\n",
    "import statistics as st\n",
    "from math import sqrt\n",
    "import scipy.stats as stats\n",
    "#!pip3 uninstall statsmodels\n",
    "#!pip3 install numpy scipy patsy pandas\n",
    "#!pip3 install statsmodels\n",
    "import statsmodels.api as sm\n",
    "import seaborn as sns"
   ]
  },
  {
   "cell_type": "code",
   "execution_count": 2,
   "metadata": {
    "scrolled": true
   },
   "outputs": [],
   "source": [
    "data = pd.read_excel(r'dane_leki.xlsx')\n",
    "data = data.drop('Unnamed: 0',axis = 1)"
   ]
  },
  {
   "cell_type": "code",
   "execution_count": 3,
   "metadata": {},
   "outputs": [
    {
     "data": {
      "image/png": "[encoded data removed]",
      "text/plain": [
       "<Figure size 432x288 with 2 Axes>"
      ]
     },
     "metadata": {
      "needs_background": "light"
     },
     "output_type": "display_data"
    }
   ],
   "source": [
    "corrM = data.corr()\n",
    "corrM\n",
    "ax = sns.heatmap(corrM, linewidth=0.5, cmap=sns.diverging_palette(20, 220, n=200))\n",
    "plt.show()"
   ]
  },
  {
   "cell_type": "code",
   "execution_count": 4,
   "metadata": {},
   "outputs": [
    {
     "name": "stdout",
     "output_type": "stream",
     "text": [
      "                            OLS Regression Results                            \n",
      "==============================================================================\n",
      "Dep. Variable:               logK HSA   R-squared:                       0.803\n",
      "Model:                            OLS   Adj. R-squared:                  0.746\n",
      "Method:                 Least Squares   F-statistic:                     14.23\n",
      "Date:                Sun, 13 Nov 2022   Prob (F-statistic):           7.72e-05\n",
      "Time:                        20:35:17   Log-Likelihood:                -10.796\n",
      "No. Observations:                  19   AIC:                             31.59\n",
      "Df Residuals:                      14   BIC:                             36.31\n",
      "Df Model:                           4                                         \n",
      "Covariance Type:            nonrobust                                         \n",
      "================================================================================\n",
      "                   coef    std err          t      P>|t|      [0.025      0.975]\n",
      "--------------------------------------------------------------------------------\n",
      "const            0.8050      0.421      1.914      0.076      -0.097       1.707\n",
      "logKCTAB         0.4722      0.266      1.776      0.097      -0.098       1.043\n",
      "CATS3D_00_DD    -0.2161      0.166     -1.298      0.215      -0.573       0.141\n",
      "CATS3D_09_AL     0.3232      0.096      3.367      0.005       0.117       0.529\n",
      "CATS3D_00_AA    -0.2253      0.079     -2.842      0.013      -0.395      -0.055\n",
      "==============================================================================\n",
      "Omnibus:                        0.910   Durbin-Watson:                   1.995\n",
      "Prob(Omnibus):                  0.635   Jarque-Bera (JB):                0.878\n",
      "Skew:                          -0.391   Prob(JB):                        0.645\n",
      "Kurtosis:                       2.294   Cond. No.                         19.5\n",
      "==============================================================================\n",
      "\n",
      "Notes:\n",
      "[1] Standard Errors assume that the covariance matrix of the errors is correctly specified.\n"
     ]
    },
    {
     "name": "stderr",
     "output_type": "stream",
     "text": [
      "C:\\Users\\48512\\anaconda3\\lib\\site-packages\\scipy\\stats\\_stats_py.py:1477: UserWarning: kurtosistest only valid for n>=20 ... continuing anyway, n=19\n",
      "  warnings.warn(\"kurtosistest only valid for n>=20 ... continuing \"\n"
     ]
    }
   ],
   "source": [
    "treningowy = data.loc[data['Zbiór']=='t']\n",
    "\n",
    "Y = treningowy['logK HSA']\n",
    "X = treningowy[['logKCTAB','CATS3D_00_DD','CATS3D_09_AL','CATS3D_00_AA']] \n",
    "X = sm.add_constant(X)\n",
    "model = sm.OLS(Y, X).fit()\n",
    "print(model.summary())"
   ]
  },
  {
   "cell_type": "code",
   "execution_count": 5,
   "metadata": {},
   "outputs": [],
   "source": [
    "#model = 0.8050 + 0.4722 *logKCTAB + (-0.2161)*CATS3D_00_DD + 0.3232*CATS3D_09_AL + (-0.2253)*CATS3D_00_AA"
   ]
  },
  {
   "cell_type": "code",
   "execution_count": 6,
   "metadata": {},
   "outputs": [
    {
     "name": "stdout",
     "output_type": "stream",
     "text": [
      "[-0.37528599999999995, 0.263784, 0.18215400000000015, 0.45019600000000004, 1.0627, 0.27027200000000007, 0.7193500000000002, 0.9374980000000006, 0.5716120000000001, 0.7083060000000001, 1.7925900000000001, 0.623554, 0.994256, 1.4728500000000002, -1.4370339999999997, -1.267286, 0.06386000000000014, -0.33756600000000003, 1.8834880000000003, -1.247042, 1.3872560000000003, -0.8579779999999999, 2.3151059999999997, 1.524886, 0.29990400000000017, 0.5560340000000001, -1.623446]\n"
     ]
    }
   ],
   "source": [
    "kol = []\n",
    "for i in range(0,27):\n",
    "    y = 0.8050 + 0.4722*data.iloc[i,2] - 0.2161*data.iloc[i,3] + 0.3232*data.iloc[i,4] -0.2253*data.iloc[i,5]\n",
    "    kol.append(y)\n",
    "print(kol)"
   ]
  },
  {
   "cell_type": "code",
   "execution_count": 7,
   "metadata": {},
   "outputs": [],
   "source": [
    "data['y_pred'] = kol"
   ]
  },
  {
   "cell_type": "code",
   "execution_count": 8,
   "metadata": {},
   "outputs": [],
   "source": [
    "#t - trening w - walidacyjny (testowy)"
   ]
  },
  {
   "cell_type": "code",
   "execution_count": 9,
   "metadata": {},
   "outputs": [],
   "source": [
    "# Q2 - dla zbioru walidacyjnego\n",
    "walidacyjny = data.loc[data['Zbiór']=='w']"
   ]
  },
  {
   "cell_type": "code",
   "execution_count": 10,
   "metadata": {},
   "outputs": [],
   "source": [
    "sum_licznik = 0\n",
    "for element in range(len(walidacyjny)):\n",
    "    sum_licznik += (walidacyjny.iloc[element][7] - walidacyjny.iloc[element][1])**2"
   ]
  },
  {
   "cell_type": "code",
   "execution_count": 11,
   "metadata": {},
   "outputs": [],
   "source": [
    "sum_mianownik = 0 \n",
    "mean = walidacyjny['y_pred'].mean()\n",
    "for element in range(len(walidacyjny)):\n",
    "    sum_mianownik += (walidacyjny.iloc[element][7] - mean)**2"
   ]
  },
  {
   "cell_type": "code",
   "execution_count": 12,
   "metadata": {},
   "outputs": [],
   "source": [
    "Q2EX = 1 - (sum_licznik/sum_mianownik)"
   ]
  },
  {
   "cell_type": "code",
   "execution_count": 13,
   "metadata": {},
   "outputs": [],
   "source": [
    "RMSEEX = sqrt(sum_licznik/8)"
   ]
  },
  {
   "cell_type": "code",
   "execution_count": 14,
   "metadata": {},
   "outputs": [],
   "source": [
    "treningowy = data.loc[data['Zbiór']=='t']\n",
    "sum_licznik_t = 0\n",
    "for element in range(len(treningowy)):\n",
    "    sum_licznik_t += (treningowy.iloc[element][7] - treningowy.iloc[element][1])**2"
   ]
  },
  {
   "cell_type": "code",
   "execution_count": 15,
   "metadata": {},
   "outputs": [],
   "source": [
    "sum_mianownik_t = 0 \n",
    "mean = treningowy['y_pred'].mean()\n",
    "for element in range(len(treningowy)):\n",
    "    sum_mianownik_t += (treningowy.iloc[element][7] - mean)**2"
   ]
  },
  {
   "cell_type": "code",
   "execution_count": 16,
   "metadata": {},
   "outputs": [],
   "source": [
    "R2 = 1 - (sum_licznik_t / sum_mianownik_t)"
   ]
  },
  {
   "cell_type": "code",
   "execution_count": 17,
   "metadata": {},
   "outputs": [],
   "source": [
    "RMSEC = sqrt(sum_licznik_t/19)"
   ]
  },
  {
   "cell_type": "code",
   "execution_count": 18,
   "metadata": {},
   "outputs": [
    {
     "data": {
      "text/plain": [
       "0.754"
      ]
     },
     "execution_count": 18,
     "metadata": {},
     "output_type": "execute_result"
    }
   ],
   "source": [
    "round(R2,3)"
   ]
  },
  {
   "cell_type": "code",
   "execution_count": 19,
   "metadata": {},
   "outputs": [
    {
     "data": {
      "text/plain": [
       "0.427"
      ]
     },
     "execution_count": 19,
     "metadata": {},
     "output_type": "execute_result"
    }
   ],
   "source": [
    "round(RMSEC,3)"
   ]
  },
  {
   "cell_type": "code",
   "execution_count": 20,
   "metadata": {},
   "outputs": [
    {
     "data": {
      "text/plain": [
       "0.949"
      ]
     },
     "execution_count": 20,
     "metadata": {},
     "output_type": "execute_result"
    }
   ],
   "source": [
    "round(Q2EX,3)"
   ]
  },
  {
   "cell_type": "code",
   "execution_count": 21,
   "metadata": {},
   "outputs": [
    {
     "data": {
      "text/plain": [
       "0.301"
      ]
     },
     "execution_count": 21,
     "metadata": {},
     "output_type": "execute_result"
    }
   ],
   "source": [
    "round(RMSEEX,3)"
   ]
  },
  {
   "cell_type": "code",
   "execution_count": 22,
   "metadata": {},
   "outputs": [],
   "source": [
    "walidacyjne = data.loc[data['Zbiór']=='w']\n",
    "stand_resids = model.resid_pearson\n",
    "odch = st.stdev(stand_resids)\n",
    "h = 3*5/19\n",
    "#p' = 5\n",
    "#n = 19\n",
    "#"
   ]
  },
  {
   "cell_type": "code",
   "execution_count": 23,
   "metadata": {},
   "outputs": [
    {
     "name": "stdout",
     "output_type": "stream",
     "text": [
      "acetaminophen\n",
      "acetylsalicylic acid\n",
      "bromazepam\n",
      "carbamazepine\n",
      "chlorpromazine\n",
      "clonidine\n",
      "diazepam\n",
      "diltiazem\n",
      "diphenhydramine\n",
      "fluoxetine\n",
      "flurbiprofen\n",
      "imipramine\n",
      "ketoconazole\n",
      "ketoprofen\n",
      "metronidazole\n",
      "nizatidine\n",
      "propranolol\n",
      "ranitidine\n",
      "trazodone\n",
      "acyclovir\n",
      "diclofenac\n",
      "famotidine\n",
      "ibuprofen\n",
      "indomethacin\n",
      "methylprednisolone\n",
      "quinidine\n",
      "zidovudine\n"
     ]
    },
    {
     "data": {
      "image/png": "[encoded data removed]",
      "text/plain": [
       "<Figure size 576x396 with 1 Axes>"
      ]
     },
     "metadata": {},
     "output_type": "display_data"
    }
   ],
   "source": [
    "import seaborn as sb\n",
    "\n",
    "n = treningowy['Nazwa']\n",
    "lista_tren = []\n",
    "for element in n:\n",
    "    lista_tren.append(element)\n",
    "\n",
    "#wykres Williamsa\n",
    "residuals = model.resid\n",
    "stand_resids = model.resid_pearson\n",
    "influence = model.get_influence()\n",
    "leverage = influence.hat_matrix_diag\n",
    "plt.style.use('seaborn')\n",
    "p=sb.scatterplot(x=leverage, y=stand_resids)\n",
    "\n",
    "z = leverage\n",
    "y = stand_resids\n",
    "\n",
    "for i, txt in enumerate(lista_tren,1):\n",
    "    p.annotate(i, (z[i-1], y[i-1]))\n",
    "    print(txt)\n",
    "\n",
    "p.axhline(y=0, color='grey', linestyle='dashed')\n",
    "p.set_xlabel('Leverage')\n",
    "p.set_ylabel('Sqrt(standarized residuals)')\n",
    "p.set_title('WILLIAMS PLOT\\n ', )\n",
    "p.axhline(odch*2.5, ls = '--',color = '#ed8aed')\n",
    "p.axhline(-odch*2.5, ls = '--',color = '#ed8aed')\n",
    "p.axvline(h)\n",
    "\n",
    "X = pd.DataFrame(walidacyjne[['logKCTAB','CATS3D_00_DD','CATS3D_09_AL','CATS3D_00_AA']])\n",
    "Y = pd.DataFrame(walidacyjne[['logK HSA']])\n",
    "X = sm.add_constant(X)\n",
    "model2 = sm.OLS(Y, X).fit()\n",
    "residuals2 = model2.resid\n",
    "stand_resids2 = model2.resid_pearson\n",
    "influence2 = model2.get_influence()\n",
    "leverage2 = influence2.hat_matrix_diag\n",
    "walidacyjny_plot = sb.scatterplot(x=leverage2, y=stand_resids2)\n",
    "\n",
    "z = leverage2\n",
    "y = stand_resids2\n",
    "\n",
    "n = walidacyjny['Nazwa']\n",
    "lista_walidacyjny = []\n",
    "for element in n:\n",
    "    lista_walidacyjny.append(element)\n",
    "\n",
    "for i, txt in enumerate(lista_walidacyjny,20):\n",
    "    walidacyjny_plot.annotate(i, (z[i-20], y[i-20]))\n",
    "    print(txt)\n",
    "\n",
    "plt.tight_layout()\n",
    "plt.show()"
   ]
  },
  {
   "cell_type": "code",
   "execution_count": 24,
   "metadata": {},
   "outputs": [],
   "source": [
    "#NIEBIESKI TRENINGOWY\n",
    "#ZIELONY WALIDACYJNY / TESTOWY"
   ]
  },
  {
   "cell_type": "code",
   "execution_count": 25,
   "metadata": {},
   "outputs": [
    {
     "data": {
      "text/plain": [
       "0.618448853702641"
      ]
     },
     "execution_count": 25,
     "metadata": {},
     "output_type": "execute_result"
    }
   ],
   "source": [
    "n = treningowy['logK HSA']\n",
    "lista_tren = []\n",
    "for element in n:\n",
    "    lista_tren.append(element)\n",
    "\n",
    "from sklearn.model_selection import train_test_split\n",
    "from sklearn.model_selection import LeaveOneOut\n",
    "from sklearn.model_selection import cross_val_score\n",
    "from sklearn.linear_model import LinearRegression\n",
    "from numpy import mean\n",
    "from numpy import absolute\n",
    "from numpy import sqrt\n",
    "import pandas as pd\n",
    "\n",
    "df = pd.DataFrame({'y': list(data['logK HSA']),\n",
    "                   'x1': list(data['logKCTAB']),\n",
    "                   'x2': list(data['CATS3D_00_DD']),\n",
    "                   'x3': list(data['CATS3D_09_AL']),\n",
    "                   'x4': list(data['CATS3D_00_AA'])})\n",
    "\n",
    "X = df[['x1', 'x2', 'x3', 'x4']]\n",
    "y = df['y']\n",
    "\n",
    "#define cross-validation method to use\n",
    "cv = LeaveOneOut()\n",
    "\n",
    "#build multiple linear regression model\n",
    "model = LinearRegression()\n",
    "\n",
    "#use LOOCV to evaluate model\n",
    "scores = cross_val_score(model, X, y, scoring='neg_mean_absolute_error',\n",
    "                         cv=cv, n_jobs=-1)\n",
    "\n",
    "#view RMSE\n",
    "sqrt(mean(absolute(scores))) #RMSE\n",
    "\n",
    "#The lower the RMSE, the more closely a model is able to predict the actual observations."
   ]
  },
  {
   "cell_type": "code",
   "execution_count": 26,
   "metadata": {},
   "outputs": [
    {
     "data": {
      "text/plain": [
       "array([-0.39677002, -0.71216328, -0.1837702 , -0.25107393, -0.07480633,\n",
       "       -0.75350755, -0.33847577, -1.07233243, -0.53574705, -0.8176856 ,\n",
       "       -0.41367438, -0.08308897, -0.02119438, -0.01125888, -0.23776547,\n",
       "       -0.75708007, -0.17438857, -0.37344016, -0.81497023, -0.13088448,\n",
       "       -0.27364999, -0.05618785, -0.36573721, -0.35910324, -0.45649437,\n",
       "       -0.33106547, -0.33061673])"
      ]
     },
     "execution_count": 26,
     "metadata": {},
     "output_type": "execute_result"
    }
   ],
   "source": [
    "scores"
   ]
  },
  {
   "cell_type": "code",
   "execution_count": 27,
   "metadata": {},
   "outputs": [
    {
     "data": {
      "text/html": [
       "<div>\n",
       "<style scoped>\n",
       "    .dataframe tbody tr th:only-of-type {\n",
       "        vertical-align: middle;\n",
       "    }\n",
       "\n",
       "    .dataframe tbody tr th {\n",
       "        vertical-align: top;\n",
       "    }\n",
       "\n",
       "    .dataframe thead th {\n",
       "        text-align: right;\n",
       "    }\n",
       "</style>\n",
       "<table border=\"1\" class=\"dataframe\">\n",
       "  <thead>\n",
       "    <tr style=\"text-align: right;\">\n",
       "      <th></th>\n",
       "      <th>Nazwa</th>\n",
       "      <th>logK HSA</th>\n",
       "      <th>logKCTAB</th>\n",
       "      <th>CATS3D_00_DD</th>\n",
       "      <th>CATS3D_09_AL</th>\n",
       "      <th>CATS3D_00_AA</th>\n",
       "      <th>Zbiór</th>\n",
       "      <th>y_pred</th>\n",
       "    </tr>\n",
       "  </thead>\n",
       "  <tbody>\n",
       "    <tr>\n",
       "      <th>0</th>\n",
       "      <td>acetaminophen</td>\n",
       "      <td>-0.79</td>\n",
       "      <td>-0.63</td>\n",
       "      <td>2</td>\n",
       "      <td>0</td>\n",
       "      <td>2</td>\n",
       "      <td>t</td>\n",
       "      <td>-0.375286</td>\n",
       "    </tr>\n",
       "    <tr>\n",
       "      <th>1</th>\n",
       "      <td>acetylsalicylic acid</td>\n",
       "      <td>-0.23</td>\n",
       "      <td>1.22</td>\n",
       "      <td>1</td>\n",
       "      <td>0</td>\n",
       "      <td>4</td>\n",
       "      <td>t</td>\n",
       "      <td>0.263784</td>\n",
       "    </tr>\n",
       "    <tr>\n",
       "      <th>2</th>\n",
       "      <td>bromazepam</td>\n",
       "      <td>0.38</td>\n",
       "      <td>0.57</td>\n",
       "      <td>1</td>\n",
       "      <td>0</td>\n",
       "      <td>3</td>\n",
       "      <td>t</td>\n",
       "      <td>0.182154</td>\n",
       "    </tr>\n",
       "    <tr>\n",
       "      <th>3</th>\n",
       "      <td>carbamazepine</td>\n",
       "      <td>0.69</td>\n",
       "      <td>0.68</td>\n",
       "      <td>0</td>\n",
       "      <td>0</td>\n",
       "      <td>3</td>\n",
       "      <td>t</td>\n",
       "      <td>0.450196</td>\n",
       "    </tr>\n",
       "    <tr>\n",
       "      <th>4</th>\n",
       "      <td>chlorpromazine</td>\n",
       "      <td>1.18</td>\n",
       "      <td>1.50</td>\n",
       "      <td>0</td>\n",
       "      <td>0</td>\n",
       "      <td>2</td>\n",
       "      <td>t</td>\n",
       "      <td>1.062700</td>\n",
       "    </tr>\n",
       "    <tr>\n",
       "      <th>5</th>\n",
       "      <td>clonidine</td>\n",
       "      <td>-0.42</td>\n",
       "      <td>0.26</td>\n",
       "      <td>2</td>\n",
       "      <td>0</td>\n",
       "      <td>1</td>\n",
       "      <td>t</td>\n",
       "      <td>0.270272</td>\n",
       "    </tr>\n",
       "    <tr>\n",
       "      <th>6</th>\n",
       "      <td>diazepam</td>\n",
       "      <td>1.08</td>\n",
       "      <td>1.25</td>\n",
       "      <td>0</td>\n",
       "      <td>0</td>\n",
       "      <td>3</td>\n",
       "      <td>t</td>\n",
       "      <td>0.719350</td>\n",
       "    </tr>\n",
       "    <tr>\n",
       "      <th>7</th>\n",
       "      <td>diltiazem</td>\n",
       "      <td>0.06</td>\n",
       "      <td>1.09</td>\n",
       "      <td>0</td>\n",
       "      <td>3</td>\n",
       "      <td>6</td>\n",
       "      <td>t</td>\n",
       "      <td>0.937498</td>\n",
       "    </tr>\n",
       "    <tr>\n",
       "      <th>8</th>\n",
       "      <td>diphenhydramine</td>\n",
       "      <td>0.08</td>\n",
       "      <td>0.46</td>\n",
       "      <td>0</td>\n",
       "      <td>0</td>\n",
       "      <td>2</td>\n",
       "      <td>t</td>\n",
       "      <td>0.571612</td>\n",
       "    </tr>\n",
       "    <tr>\n",
       "      <th>9</th>\n",
       "      <td>fluoxetine</td>\n",
       "      <td>1.39</td>\n",
       "      <td>0.73</td>\n",
       "      <td>1</td>\n",
       "      <td>0</td>\n",
       "      <td>1</td>\n",
       "      <td>t</td>\n",
       "      <td>0.708306</td>\n",
       "    </tr>\n",
       "    <tr>\n",
       "      <th>10</th>\n",
       "      <td>flurbiprofen</td>\n",
       "      <td>2.05</td>\n",
       "      <td>1.45</td>\n",
       "      <td>1</td>\n",
       "      <td>3</td>\n",
       "      <td>2</td>\n",
       "      <td>t</td>\n",
       "      <td>1.792590</td>\n",
       "    </tr>\n",
       "    <tr>\n",
       "      <th>11</th>\n",
       "      <td>imipramine</td>\n",
       "      <td>0.67</td>\n",
       "      <td>0.57</td>\n",
       "      <td>0</td>\n",
       "      <td>0</td>\n",
       "      <td>2</td>\n",
       "      <td>t</td>\n",
       "      <td>0.623554</td>\n",
       "    </tr>\n",
       "    <tr>\n",
       "      <th>12</th>\n",
       "      <td>ketoconazole</td>\n",
       "      <td>1.06</td>\n",
       "      <td>1.48</td>\n",
       "      <td>0</td>\n",
       "      <td>4</td>\n",
       "      <td>8</td>\n",
       "      <td>t</td>\n",
       "      <td>0.994256</td>\n",
       "    </tr>\n",
       "    <tr>\n",
       "      <th>13</th>\n",
       "      <td>ketoprofen</td>\n",
       "      <td>1.42</td>\n",
       "      <td>1.25</td>\n",
       "      <td>1</td>\n",
       "      <td>3</td>\n",
       "      <td>3</td>\n",
       "      <td>t</td>\n",
       "      <td>1.472850</td>\n",
       "    </tr>\n",
       "    <tr>\n",
       "      <th>14</th>\n",
       "      <td>metronidazole</td>\n",
       "      <td>-1.25</td>\n",
       "      <td>-0.97</td>\n",
       "      <td>2</td>\n",
       "      <td>0</td>\n",
       "      <td>6</td>\n",
       "      <td>t</td>\n",
       "      <td>-1.437034</td>\n",
       "    </tr>\n",
       "    <tr>\n",
       "      <th>15</th>\n",
       "      <td>nizatidine</td>\n",
       "      <td>-0.60</td>\n",
       "      <td>-0.63</td>\n",
       "      <td>3</td>\n",
       "      <td>0</td>\n",
       "      <td>5</td>\n",
       "      <td>t</td>\n",
       "      <td>-1.267286</td>\n",
       "    </tr>\n",
       "    <tr>\n",
       "      <th>16</th>\n",
       "      <td>propranolol</td>\n",
       "      <td>0.20</td>\n",
       "      <td>0.30</td>\n",
       "      <td>2</td>\n",
       "      <td>0</td>\n",
       "      <td>2</td>\n",
       "      <td>t</td>\n",
       "      <td>0.063860</td>\n",
       "    </tr>\n",
       "    <tr>\n",
       "      <th>17</th>\n",
       "      <td>ranitidine</td>\n",
       "      <td>-0.68</td>\n",
       "      <td>-0.03</td>\n",
       "      <td>3</td>\n",
       "      <td>2</td>\n",
       "      <td>5</td>\n",
       "      <td>t</td>\n",
       "      <td>-0.337566</td>\n",
       "    </tr>\n",
       "    <tr>\n",
       "      <th>18</th>\n",
       "      <td>trazodone</td>\n",
       "      <td>2.29</td>\n",
       "      <td>1.04</td>\n",
       "      <td>0</td>\n",
       "      <td>6</td>\n",
       "      <td>6</td>\n",
       "      <td>t</td>\n",
       "      <td>1.883488</td>\n",
       "    </tr>\n",
       "    <tr>\n",
       "      <th>19</th>\n",
       "      <td>acyclovir</td>\n",
       "      <td>-1.25</td>\n",
       "      <td>-0.11</td>\n",
       "      <td>3</td>\n",
       "      <td>0</td>\n",
       "      <td>6</td>\n",
       "      <td>w</td>\n",
       "      <td>-1.247042</td>\n",
       "    </tr>\n",
       "    <tr>\n",
       "      <th>20</th>\n",
       "      <td>diclofenac</td>\n",
       "      <td>1.69</td>\n",
       "      <td>1.98</td>\n",
       "      <td>0</td>\n",
       "      <td>1</td>\n",
       "      <td>3</td>\n",
       "      <td>w</td>\n",
       "      <td>1.387256</td>\n",
       "    </tr>\n",
       "    <tr>\n",
       "      <th>21</th>\n",
       "      <td>famotidine</td>\n",
       "      <td>-0.77</td>\n",
       "      <td>0.01</td>\n",
       "      <td>4</td>\n",
       "      <td>1</td>\n",
       "      <td>5</td>\n",
       "      <td>w</td>\n",
       "      <td>-0.857978</td>\n",
       "    </tr>\n",
       "    <tr>\n",
       "      <th>22</th>\n",
       "      <td>ibuprofen</td>\n",
       "      <td>1.84</td>\n",
       "      <td>0.73</td>\n",
       "      <td>0</td>\n",
       "      <td>5</td>\n",
       "      <td>2</td>\n",
       "      <td>w</td>\n",
       "      <td>2.315106</td>\n",
       "    </tr>\n",
       "    <tr>\n",
       "      <th>23</th>\n",
       "      <td>indomethacin</td>\n",
       "      <td>1.82</td>\n",
       "      <td>1.63</td>\n",
       "      <td>1</td>\n",
       "      <td>4</td>\n",
       "      <td>5</td>\n",
       "      <td>w</td>\n",
       "      <td>1.524886</td>\n",
       "    </tr>\n",
       "    <tr>\n",
       "      <th>24</th>\n",
       "      <td>methylprednisolone</td>\n",
       "      <td>0.08</td>\n",
       "      <td>1.32</td>\n",
       "      <td>3</td>\n",
       "      <td>2</td>\n",
       "      <td>5</td>\n",
       "      <td>w</td>\n",
       "      <td>0.299904</td>\n",
       "    </tr>\n",
       "    <tr>\n",
       "      <th>25</th>\n",
       "      <td>quinidine</td>\n",
       "      <td>0.20</td>\n",
       "      <td>0.47</td>\n",
       "      <td>1</td>\n",
       "      <td>2</td>\n",
       "      <td>4</td>\n",
       "      <td>w</td>\n",
       "      <td>0.556034</td>\n",
       "    </tr>\n",
       "    <tr>\n",
       "      <th>26</th>\n",
       "      <td>zidovudine</td>\n",
       "      <td>-1.25</td>\n",
       "      <td>-0.43</td>\n",
       "      <td>3</td>\n",
       "      <td>0</td>\n",
       "      <td>7</td>\n",
       "      <td>w</td>\n",
       "      <td>-1.623446</td>\n",
       "    </tr>\n",
       "  </tbody>\n",
       "</table>\n",
       "</div>"
      ],
      "text/plain": [
       "                   Nazwa  logK HSA  logKCTAB  CATS3D_00_DD  CATS3D_09_AL  \\\n",
       "0          acetaminophen     -0.79     -0.63             2             0   \n",
       "1   acetylsalicylic acid     -0.23      1.22             1             0   \n",
       "2             bromazepam      0.38      0.57             1             0   \n",
       "3          carbamazepine      0.69      0.68             0             0   \n",
       "4         chlorpromazine      1.18      1.50             0             0   \n",
       "5              clonidine     -0.42      0.26             2             0   \n",
       "6               diazepam      1.08      1.25             0             0   \n",
       "7              diltiazem      0.06      1.09             0             3   \n",
       "8        diphenhydramine      0.08      0.46             0             0   \n",
       "9             fluoxetine      1.39      0.73             1             0   \n",
       "10          flurbiprofen      2.05      1.45             1             3   \n",
       "11            imipramine      0.67      0.57             0             0   \n",
       "12          ketoconazole      1.06      1.48             0             4   \n",
       "13            ketoprofen      1.42      1.25             1             3   \n",
       "14         metronidazole     -1.25     -0.97             2             0   \n",
       "15            nizatidine     -0.60     -0.63             3             0   \n",
       "16           propranolol      0.20      0.30             2             0   \n",
       "17            ranitidine     -0.68     -0.03             3             2   \n",
       "18             trazodone      2.29      1.04             0             6   \n",
       "19             acyclovir     -1.25     -0.11             3             0   \n",
       "20            diclofenac      1.69      1.98             0             1   \n",
       "21            famotidine     -0.77      0.01             4             1   \n",
       "22             ibuprofen      1.84      0.73             0             5   \n",
       "23          indomethacin      1.82      1.63             1             4   \n",
       "24    methylprednisolone      0.08      1.32             3             2   \n",
       "25             quinidine      0.20      0.47             1             2   \n",
       "26            zidovudine     -1.25     -0.43             3             0   \n",
       "\n",
       "    CATS3D_00_AA Zbiór    y_pred  \n",
       "0              2     t -0.375286  \n",
       "1              4     t  0.263784  \n",
       "2              3     t  0.182154  \n",
       "3              3     t  0.450196  \n",
       "4              2     t  1.062700  \n",
       "5              1     t  0.270272  \n",
       "6              3     t  0.719350  \n",
       "7              6     t  0.937498  \n",
       "8              2     t  0.571612  \n",
       "9              1     t  0.708306  \n",
       "10             2     t  1.792590  \n",
       "11             2     t  0.623554  \n",
       "12             8     t  0.994256  \n",
       "13             3     t  1.472850  \n",
       "14             6     t -1.437034  \n",
       "15             5     t -1.267286  \n",
       "16             2     t  0.063860  \n",
       "17             5     t -0.337566  \n",
       "18             6     t  1.883488  \n",
       "19             6     w -1.247042  \n",
       "20             3     w  1.387256  \n",
       "21             5     w -0.857978  \n",
       "22             2     w  2.315106  \n",
       "23             5     w  1.524886  \n",
       "24             5     w  0.299904  \n",
       "25             4     w  0.556034  \n",
       "26             7     w -1.623446  "
      ]
     },
     "execution_count": 27,
     "metadata": {},
     "output_type": "execute_result"
    }
   ],
   "source": [
    "data"
   ]
  },
  {
   "cell_type": "code",
   "execution_count": 28,
   "metadata": {},
   "outputs": [
    {
     "data": {
      "text/plain": [
       "0.7894736842105263"
      ]
     },
     "execution_count": 28,
     "metadata": {},
     "output_type": "execute_result"
    }
   ],
   "source": [
    "h"
   ]
  },
  {
   "cell_type": "code",
   "execution_count": null,
   "metadata": {},
   "outputs": [],
   "source": []
  }
 ],
 "metadata": {
  "kernelspec": {
   "display_name": "Python 3",
   "language": "python",
   "name": "python3"
  },
  "language_info": {
   "codemirror_mode": {
    "name": "ipython",
    "version": 3
   },
   "file_extension": ".py",
   "mimetype": "text/x-python",
   "name": "python",
   "nbconvert_exporter": "python",
   "pygments_lexer": "ipython3",
   "version": "3.8.5"
  }
 },
 "nbformat": 4,
 "nbformat_minor": 4
}
